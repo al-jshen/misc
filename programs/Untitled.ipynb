{
 "cells": [
  {
   "cell_type": "code",
   "execution_count": 70,
   "metadata": {},
   "outputs": [],
   "source": [
    "import pandas as pd\n",
    "import numpy as np\n",
    "from pprint import pprint"
   ]
  },
  {
   "cell_type": "code",
   "execution_count": 64,
   "metadata": {},
   "outputs": [],
   "source": [
    "def poly(coeffs, deg, x):\n",
    "    s = 0\n",
    "    for i in range(deg+1):\n",
    "        s += coeffs[i] * x**(deg-i)\n",
    "    return s\n",
    "    \n",
    "def roots():\n",
    "\n",
    "    coeffs = list(map(int, input().split()))\n",
    "    deg = len(coeffs) - 1\n",
    "    first = abs(coeffs[0])\n",
    "    last = abs(coeffs[-1])\n",
    "\n",
    "    m_cands = [i for i in list(range(-last, 0)) + list(range(1, last+1)) if last % i == 0]\n",
    "    n_cands = [i for i in list(range(-first, 0)) + list(range(1, first+1)) if first % i == 0]\n",
    "    \n",
    "    df = pd.DataFrame(index=m_cands, columns=n_cands)\n",
    "    for idxm, m in enumerate(m_cands):\n",
    "        for idxn, n in enumerate(n_cands):\n",
    "            df.loc[m, n] = poly(coeffs, deg, m/n)\n",
    "            \n",
    "    return df\n",
    "\n",
    "    "
   ]
  },
  {
   "cell_type": "code",
   "execution_count": 83,
   "metadata": {
    "scrolled": false
   },
   "outputs": [
    {
     "name": "stdout",
     "output_type": "stream",
     "text": [
      "2 0 -6 -1\n",
      "With the candidates of m on the left, and the candidates \n",
      "of n above each row, each entry in the table \n",
      "corresponds to the value of plugging in m/n into the polynomial.\n",
      "\n",
      "\n",
      "      -2 -1  1     2\n",
      "-1 -3.75 -5  3  1.75\n",
      " 1  1.75  3 -5 -3.75\n"
     ]
    }
   ],
   "source": [
    "d = roots();\n",
    "print('With the candidates of m on the left, and the candidates \\nof n above each row, each entry in the table \\ncorresponds to the value of plugging in m/n into the polynomial.\\n\\n')\n",
    "with pd.option_context('display.max_rows', None, 'display.max_columns', None):  # more options can be specified also\n",
    "    pprint(d)"
   ]
  },
  {
   "cell_type": "code",
   "execution_count": null,
   "metadata": {},
   "outputs": [],
   "source": []
  }
 ],
 "metadata": {
  "kernelspec": {
   "display_name": "Python 3",
   "language": "python",
   "name": "python3"
  },
  "language_info": {
   "codemirror_mode": {
    "name": "ipython",
    "version": 3
   },
   "file_extension": ".py",
   "mimetype": "text/x-python",
   "name": "python",
   "nbconvert_exporter": "python",
   "pygments_lexer": "ipython3",
   "version": "3.7.5"
  }
 },
 "nbformat": 4,
 "nbformat_minor": 2
}

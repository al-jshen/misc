{
 "cells": [
  {
   "cell_type": "code",
   "execution_count": 1,
   "metadata": {},
   "outputs": [
    {
     "data": {
      "text/html": [
       "<style>\n",
       ".list-inline {list-style: none; margin:0; padding: 0}\n",
       ".list-inline>li {display: inline-block}\n",
       ".list-inline>li:not(:last-child)::after {content: \"\\00b7\"; padding: 0 .5ex}\n",
       "</style>\n",
       "<ol class=list-inline><li>12.64</li><li>17.22</li><li>17.02</li><li>16.24</li><li>5.66</li><li>14.52</li><li>19.67</li><li>15.14</li><li>15.09</li><li>13.22</li><li>18.8</li><li>14.81</li><li>21.95</li><li>19.91</li><li>16.31</li></ol>\n"
      ],
      "text/latex": [
       "\\begin{enumerate*}\n",
       "\\item 12.64\n",
       "\\item 17.22\n",
       "\\item 17.02\n",
       "\\item 16.24\n",
       "\\item 5.66\n",
       "\\item 14.52\n",
       "\\item 19.67\n",
       "\\item 15.14\n",
       "\\item 15.09\n",
       "\\item 13.22\n",
       "\\item 18.8\n",
       "\\item 14.81\n",
       "\\item 21.95\n",
       "\\item 19.91\n",
       "\\item 16.31\n",
       "\\end{enumerate*}\n"
      ],
      "text/markdown": [
       "1. 12.64\n",
       "2. 17.22\n",
       "3. 17.02\n",
       "4. 16.24\n",
       "5. 5.66\n",
       "6. 14.52\n",
       "7. 19.67\n",
       "8. 15.14\n",
       "9. 15.09\n",
       "10. 13.22\n",
       "11. 18.8\n",
       "12. 14.81\n",
       "13. 21.95\n",
       "14. 19.91\n",
       "15. 16.31\n",
       "\n",
       "\n"
      ],
      "text/plain": [
       " [1] 12.64 17.22 17.02 16.24  5.66 14.52 19.67 15.14 15.09 13.22 18.80 14.81\n",
       "[13] 21.95 19.91 16.31"
      ]
     },
     "metadata": {},
     "output_type": "display_data"
    },
    {
     "data": {
      "text/html": [
       "<style>\n",
       ".list-inline {list-style: none; margin:0; padding: 0}\n",
       ".list-inline>li {display: inline-block}\n",
       ".list-inline>li:not(:last-child)::after {content: \"\\00b7\"; padding: 0 .5ex}\n",
       "</style>\n",
       "<ol class=list-inline><li>72.17</li><li>76.47</li><li>79.25</li><li>73.13</li><li>66.52</li><li>63.45</li><li>78.04</li><li>78.9</li><li>58.26</li><li>68.06</li><li>81.32</li><li>74.08</li><li>74.42</li><li>78.21</li><li>69.11</li></ol>\n"
      ],
      "text/latex": [
       "\\begin{enumerate*}\n",
       "\\item 72.17\n",
       "\\item 76.47\n",
       "\\item 79.25\n",
       "\\item 73.13\n",
       "\\item 66.52\n",
       "\\item 63.45\n",
       "\\item 78.04\n",
       "\\item 78.9\n",
       "\\item 58.26\n",
       "\\item 68.06\n",
       "\\item 81.32\n",
       "\\item 74.08\n",
       "\\item 74.42\n",
       "\\item 78.21\n",
       "\\item 69.11\n",
       "\\end{enumerate*}\n"
      ],
      "text/markdown": [
       "1. 72.17\n",
       "2. 76.47\n",
       "3. 79.25\n",
       "4. 73.13\n",
       "5. 66.52\n",
       "6. 63.45\n",
       "7. 78.04\n",
       "8. 78.9\n",
       "9. 58.26\n",
       "10. 68.06\n",
       "11. 81.32\n",
       "12. 74.08\n",
       "13. 74.42\n",
       "14. 78.21\n",
       "15. 69.11\n",
       "\n",
       "\n"
      ],
      "text/plain": [
       " [1] 72.17 76.47 79.25 73.13 66.52 63.45 78.04 78.90 58.26 68.06 81.32 74.08\n",
       "[13] 74.42 78.21 69.11"
      ]
     },
     "metadata": {},
     "output_type": "display_data"
    }
   ],
   "source": [
    "student_id=1004911526\n",
    "set.seed(student_id)\n",
    "x= round(rnorm(15,mean=18,sd=4),2)\n",
    "y= round(50+1.5*x+rnorm(15, mean=0, sd=5),2)\n",
    "n= length(x)\n",
    "x\n",
    "y"
   ]
  },
  {
   "cell_type": "markdown",
   "metadata": {},
   "source": [
    "## part a"
   ]
  },
  {
   "cell_type": "code",
   "execution_count": 2,
   "metadata": {},
   "outputs": [
    {
     "data": {
      "text/html": [
       "58.52060454591"
      ],
      "text/latex": [
       "58.52060454591"
      ],
      "text/markdown": [
       "58.52060454591"
      ],
      "text/plain": [
       "[1] 58.5206"
      ]
     },
     "metadata": {},
     "output_type": "display_data"
    },
    {
     "data": {
      "text/html": [
       "0.896645389636228"
      ],
      "text/latex": [
       "0.896645389636228"
      ],
      "text/markdown": [
       "0.896645389636228"
      ],
      "text/plain": [
       "[1] 0.8966454"
      ]
     },
     "metadata": {},
     "output_type": "display_data"
    }
   ],
   "source": [
    "b2 = sum((x - mean(x)) * (y - mean(y))) / sum((x - mean(x))**2)\n",
    "b1 = mean(y) - b2*mean(x)\n",
    "b1\n",
    "b2"
   ]
  },
  {
   "cell_type": "markdown",
   "metadata": {},
   "source": [
    "## part b\n",
    "b1 is the expected value of y when x=0\n",
    "\n",
    "b2 is the slope of the relationship between x and y: for every 1 unit change in x, y is expected to change by b2. "
   ]
  },
  {
   "cell_type": "markdown",
   "metadata": {},
   "source": [
    "## part c"
   ]
  },
  {
   "cell_type": "code",
   "execution_count": 3,
   "metadata": {},
   "outputs": [
    {
     "data": {
      "text/html": [
       "0.0246235675931933"
      ],
      "text/latex": [
       "0.0246235675931933"
      ],
      "text/markdown": [
       "0.0246235675931933"
      ],
      "text/plain": [
       "[1] 0.02462357"
      ]
     },
     "metadata": {},
     "output_type": "display_data"
    },
    {
     "data": {
      "text/html": [
       "1.76866721167926"
      ],
      "text/latex": [
       "1.76866721167926"
      ],
      "text/markdown": [
       "1.76866721167926"
      ],
      "text/plain": [
       "[1] 1.768667"
      ]
     },
     "metadata": {},
     "output_type": "display_data"
    }
   ],
   "source": [
    "Ssq = 1/(n-2) * sum((y - b1 - b2*x)**2)\n",
    "SEb2 = (Ssq / sum((x - mean(x))**2))**0.5\n",
    "lowerci = b2 - qt(0.975, df=(n-2)) * SEb2\n",
    "upperci = b2 + qt(0.975, df=(n-2)) * SEb2\n",
    "lowerci\n",
    "upperci"
   ]
  },
  {
   "cell_type": "markdown",
   "metadata": {},
   "source": [
    "## part d"
   ]
  },
  {
   "cell_type": "code",
   "execution_count": 4,
   "metadata": {},
   "outputs": [
    {
     "data": {
      "text/html": [
       "0.158849304735243"
      ],
      "text/latex": [
       "0.158849304735243"
      ],
      "text/markdown": [
       "0.158849304735243"
      ],
      "text/plain": [
       "[1] 0.1588493"
      ]
     },
     "metadata": {},
     "output_type": "display_data"
    }
   ],
   "source": [
    "teststat = (b2 - 1.5) / SEb2\n",
    "pval = 2*pt(teststat, df=(n-2))\n",
    "pval"
   ]
  },
  {
   "cell_type": "markdown",
   "metadata": {},
   "source": [
    "The p-value is greater than 5% so we fail to reject the null hypothesis."
   ]
  },
  {
   "cell_type": "markdown",
   "metadata": {},
   "source": [
    "## part e\n",
    "\n",
    "Already calculated previously. See the first line under part c. `Ssq`, or $S^2$, is an unbiased estimator of $\\sigma^2$."
   ]
  },
  {
   "cell_type": "code",
   "execution_count": 5,
   "metadata": {},
   "outputs": [
    {
     "data": {
      "text/html": [
       "33.4939783020719"
      ],
      "text/latex": [
       "33.4939783020719"
      ],
      "text/markdown": [
       "33.4939783020719"
      ],
      "text/plain": [
       "[1] 33.49398"
      ]
     },
     "metadata": {},
     "output_type": "display_data"
    }
   ],
   "source": [
    "Ssq"
   ]
  },
  {
   "cell_type": "markdown",
   "metadata": {},
   "source": [
    "## part f\n",
    "\n",
    "Sorry I don't know how to make a nice table. I printed it by column, with a space in between each column. It goes from top to bottom for each column, and the columns go from left to right. "
   ]
  },
  {
   "cell_type": "code",
   "execution_count": 6,
   "metadata": {},
   "outputs": [
    {
     "data": {
      "text/html": [
       "<span style=white-space:pre-wrap>'df X:  1'</span>"
      ],
      "text/latex": [
       "'df X:  1'"
      ],
      "text/markdown": [
       "<span style=white-space:pre-wrap>'df X:  1'</span>"
      ],
      "text/plain": [
       "[1] \"df X:  1\""
      ]
     },
     "metadata": {},
     "output_type": "display_data"
    },
    {
     "data": {
      "text/html": [
       "<span style=white-space:pre-wrap>'df_Error:  13'</span>"
      ],
      "text/latex": [
       "'df\\_Error:  13'"
      ],
      "text/markdown": [
       "<span style=white-space:pre-wrap>'df_Error:  13'</span>"
      ],
      "text/plain": [
       "[1] \"df_Error:  13\""
      ]
     },
     "metadata": {},
     "output_type": "display_data"
    },
    {
     "data": {
      "text/html": [
       "<span style=white-space:pre-wrap>'df_Total:  14'</span>"
      ],
      "text/latex": [
       "'df\\_Total:  14'"
      ],
      "text/markdown": [
       "<span style=white-space:pre-wrap>'df_Total:  14'</span>"
      ],
      "text/plain": [
       "[1] \"df_Total:  14\""
      ]
     },
     "metadata": {},
     "output_type": "display_data"
    },
    {
     "data": {
      "text/html": [
       "''"
      ],
      "text/latex": [
       "''"
      ],
      "text/markdown": [
       "''"
      ],
      "text/plain": [
       "[1] \"\""
      ]
     },
     "metadata": {},
     "output_type": "display_data"
    },
    {
     "data": {
      "text/html": [
       "<span style=white-space:pre-wrap>'SS_X:  165.275775406399'</span>"
      ],
      "text/latex": [
       "'SS\\_X:  165.275775406399'"
      ],
      "text/markdown": [
       "<span style=white-space:pre-wrap>'SS_X:  165.275775406399'</span>"
      ],
      "text/plain": [
       "[1] \"SS_X:  165.275775406399\""
      ]
     },
     "metadata": {},
     "output_type": "display_data"
    },
    {
     "data": {
      "text/html": [
       "<span style=white-space:pre-wrap>'SS_Error:  435.421717926934'</span>"
      ],
      "text/latex": [
       "'SS\\_Error:  435.421717926934'"
      ],
      "text/markdown": [
       "<span style=white-space:pre-wrap>'SS_Error:  435.421717926934'</span>"
      ],
      "text/plain": [
       "[1] \"SS_Error:  435.421717926934\""
      ]
     },
     "metadata": {},
     "output_type": "display_data"
    },
    {
     "data": {
      "text/html": [
       "<span style=white-space:pre-wrap>'SS_Total:  600.697493333333'</span>"
      ],
      "text/latex": [
       "'SS\\_Total:  600.697493333333'"
      ],
      "text/markdown": [
       "<span style=white-space:pre-wrap>'SS_Total:  600.697493333333'</span>"
      ],
      "text/plain": [
       "[1] \"SS_Total:  600.697493333333\""
      ]
     },
     "metadata": {},
     "output_type": "display_data"
    },
    {
     "data": {
      "text/html": [
       "''"
      ],
      "text/latex": [
       "''"
      ],
      "text/markdown": [
       "''"
      ],
      "text/plain": [
       "[1] \"\""
      ]
     },
     "metadata": {},
     "output_type": "display_data"
    },
    {
     "data": {
      "text/html": [
       "<span style=white-space:pre-wrap>'MeanSS_X:  165.275775406399'</span>"
      ],
      "text/latex": [
       "'MeanSS\\_X:  165.275775406399'"
      ],
      "text/markdown": [
       "<span style=white-space:pre-wrap>'MeanSS_X:  165.275775406399'</span>"
      ],
      "text/plain": [
       "[1] \"MeanSS_X:  165.275775406399\""
      ]
     },
     "metadata": {},
     "output_type": "display_data"
    },
    {
     "data": {
      "text/html": [
       "<span style=white-space:pre-wrap>'MeanSS_Error:  33.4939783020719'</span>"
      ],
      "text/latex": [
       "'MeanSS\\_Error:  33.4939783020719'"
      ],
      "text/markdown": [
       "<span style=white-space:pre-wrap>'MeanSS_Error:  33.4939783020719'</span>"
      ],
      "text/plain": [
       "[1] \"MeanSS_Error:  33.4939783020719\""
      ]
     },
     "metadata": {},
     "output_type": "display_data"
    },
    {
     "data": {
      "text/html": [
       "''"
      ],
      "text/latex": [
       "''"
      ],
      "text/markdown": [
       "''"
      ],
      "text/plain": [
       "[1] \"\""
      ]
     },
     "metadata": {},
     "output_type": "display_data"
    },
    {
     "data": {
      "text/html": [
       "<span style=white-space:pre-wrap>'F:  4.93449222173096'</span>"
      ],
      "text/latex": [
       "'F:  4.93449222173096'"
      ],
      "text/markdown": [
       "<span style=white-space:pre-wrap>'F:  4.93449222173096'</span>"
      ],
      "text/plain": [
       "[1] \"F:  4.93449222173096\""
      ]
     },
     "metadata": {},
     "output_type": "display_data"
    }
   ],
   "source": [
    "df_X = 1\n",
    "df_Error = n-2\n",
    "df_Total = df_X + df_Error\n",
    "\n",
    "SS_X = b2**2 * sum((x - mean(x))**2)\n",
    "SS_Error = sum((y - b1 - b2*x)**2)\n",
    "SS_Total = sum((y - mean(y))**2)\n",
    "\n",
    "MeanSS_X = SS_X / df_X\n",
    "MeanSS_Error = SS_Error / df_Error\n",
    "\n",
    "F = MeanSS_X / MeanSS_Error\n",
    "\n",
    "paste('df X: ', df_X)\n",
    "paste('df_Error: ', df_Error)\n",
    "paste('df_Total: ', df_Total)\n",
    "paste('')\n",
    "paste('SS_X: ', SS_X)\n",
    "paste('SS_Error: ', SS_Error)\n",
    "paste('SS_Total: ', SS_Total)\n",
    "paste('')\n",
    "paste('MeanSS_X: ', MeanSS_X)\n",
    "paste('MeanSS_Error: ', MeanSS_Error)\n",
    "paste('')\n",
    "paste('F: ', F)"
   ]
  },
  {
   "cell_type": "code",
   "execution_count": 7,
   "metadata": {},
   "outputs": [
    {
     "data": {
      "text/html": [
       "0.275139778741653"
      ],
      "text/latex": [
       "0.275139778741653"
      ],
      "text/markdown": [
       "0.275139778741653"
      ],
      "text/plain": [
       "[1] 0.2751398"
      ]
     },
     "metadata": {},
     "output_type": "display_data"
    }
   ],
   "source": [
    "Rsq = SS_X / SS_Total\n",
    "Rsq"
   ]
  },
  {
   "cell_type": "markdown",
   "metadata": {},
   "source": [
    "An $R^2$ value of 0.27 means about 27% of the variation in y can be explained by the variation in x. "
   ]
  },
  {
   "cell_type": "markdown",
   "metadata": {},
   "source": [
    "## part h"
   ]
  },
  {
   "cell_type": "code",
   "execution_count": 8,
   "metadata": {},
   "outputs": [
    {
     "data": {
      "text/html": [
       "4.16986677420944e-07"
      ],
      "text/latex": [
       "4.16986677420944e-07"
      ],
      "text/markdown": [
       "4.16986677420944e-07"
      ],
      "text/plain": [
       "[1] 4.169867e-07"
      ]
     },
     "metadata": {},
     "output_type": "display_data"
    }
   ],
   "source": [
    "sigmasq_teststat = (n-2) * Ssq / (25**2)\n",
    "sigmasq_pval = pchisq(sigmasq_teststat, df=(n-2))\n",
    "sigmasq_pval"
   ]
  },
  {
   "cell_type": "markdown",
   "metadata": {},
   "source": [
    "This p value is less than 5%, so we reject the null hypothesis. "
   ]
  }
 ],
 "metadata": {
  "kernelspec": {
   "display_name": "R",
   "language": "R",
   "name": "ir"
  },
  "language_info": {
   "codemirror_mode": "r",
   "file_extension": ".r",
   "mimetype": "text/x-r-source",
   "name": "R",
   "pygments_lexer": "r",
   "version": "3.6.3"
  }
 },
 "nbformat": 4,
 "nbformat_minor": 4
}

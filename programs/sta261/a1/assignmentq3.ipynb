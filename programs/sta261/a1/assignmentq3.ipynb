{
 "cells": [
  {
   "cell_type": "markdown",
   "metadata": {},
   "source": [
    "STA261 Assignment\n",
    "\n",
    "Jeff Shen | 1004911526"
   ]
  },
  {
   "cell_type": "code",
   "execution_count": 1,
   "metadata": {},
   "outputs": [],
   "source": [
    "import numpy as np\n",
    "import pandas as pd\n",
    "import matplotlib.pyplot as plt\n",
    "%matplotlib inline\n",
    "import seaborn as sns\n",
    "from itertools import product\n",
    "from scipy.stats import norm"
   ]
  },
  {
   "cell_type": "code",
   "execution_count": 2,
   "metadata": {},
   "outputs": [],
   "source": [
    "dat = np.array([11, 12, 13, 14, 15])\n",
    "combs = pd.DataFrame(product(dat, repeat=3))"
   ]
  },
  {
   "cell_type": "markdown",
   "metadata": {},
   "source": [
    "## part a"
   ]
  },
  {
   "cell_type": "code",
   "execution_count": 3,
   "metadata": {},
   "outputs": [],
   "source": [
    "def ci(x, gamma, sigmasq):\n",
    "    me = norm.ppf((1+gamma)/2) * np.sqrt(sigmasq / len(x))\n",
    "    return np.array([x.mean() - me, x.mean() + me])"
   ]
  },
  {
   "cell_type": "code",
   "execution_count": 4,
   "metadata": {},
   "outputs": [
    {
     "data": {
      "text/plain": [
       "0.936"
      ]
     },
     "execution_count": 4,
     "metadata": {},
     "output_type": "execute_result"
    }
   ],
   "source": [
    "cis = combs.iloc[:,:3].apply(lambda x: ci(x, 0.95, 2), axis=1)\n",
    "sum([1 for i in cis if i[0] <= 13 <= i[1]]) / 125"
   ]
  },
  {
   "cell_type": "markdown",
   "metadata": {},
   "source": [
    "## part b\n",
    "\n",
    "Under the null hypothesis, we have \n",
    "\n",
    "$$\\frac{\\overline{x} - \\mu}{\\sqrt{\\sigma^2/n}} \\stackrel{D}{\\sim} N(0, 1)$$"
   ]
  },
  {
   "cell_type": "markdown",
   "metadata": {},
   "source": [
    "We should calculate the test statistic for this set of three numbers and then find the p-value (multiplying by 2 because it is a two-tailed test):"
   ]
  },
  {
   "cell_type": "code",
   "execution_count": 5,
   "metadata": {},
   "outputs": [
    {
     "data": {
      "text/plain": [
       "1.224744871391589"
      ]
     },
     "execution_count": 5,
     "metadata": {},
     "output_type": "execute_result"
    }
   ],
   "source": [
    "test_stat = (14-13) / np.sqrt(2/3)\n",
    "test_stat"
   ]
  },
  {
   "cell_type": "code",
   "execution_count": 6,
   "metadata": {},
   "outputs": [
    {
     "data": {
      "text/plain": [
       "0.22067136191984682"
      ]
     },
     "execution_count": 6,
     "metadata": {},
     "output_type": "execute_result"
    }
   ],
   "source": [
    "p_val = (1 - norm.cdf(test_stat)) * 2\n",
    "p_val"
   ]
  },
  {
   "cell_type": "markdown",
   "metadata": {},
   "source": [
    "## part c"
   ]
  },
  {
   "cell_type": "markdown",
   "metadata": {},
   "source": [
    "Use the definition of p-value: probability of observing something at least as extreme as your sample. Assume that the sample in question is the same one from part b: (13, 14, 15) (question isn't too clear about this). Then $\\overline{x}$ for this sample is 14, which is 1 away from $H_0: \\overline{x}=13$. So we want to find the probability of seeing $\\overline{x}$ such that $|\\overline{x}-14|\\geq 1$."
   ]
  },
  {
   "cell_type": "code",
   "execution_count": 11,
   "metadata": {},
   "outputs": [
    {
     "data": {
      "text/plain": [
       "0.584"
      ]
     },
     "execution_count": 11,
     "metadata": {},
     "output_type": "execute_result"
    }
   ],
   "source": [
    "combs['xbar'] = combs.mean(axis=1)\n",
    "pval = (np.abs(combs['xbar'] - 14) >= 1).sum() / 125\n",
    "pval"
   ]
  },
  {
   "cell_type": "markdown",
   "metadata": {},
   "source": [
    "## part d\n",
    "\n",
    "There is a difference between the calculations from part b and from part c because part c doesn't assume the CLT, while part b does. However, the number of samples is small (n=3), so CLT may not be applicable. "
   ]
  }
 ],
 "metadata": {
  "kernelspec": {
   "display_name": "Python 3",
   "language": "python",
   "name": "python3"
  },
  "language_info": {
   "codemirror_mode": {
    "name": "ipython",
    "version": 3
   },
   "file_extension": ".py",
   "mimetype": "text/x-python",
   "name": "python",
   "nbconvert_exporter": "python",
   "pygments_lexer": "ipython3",
   "version": "3.7.7"
  }
 },
 "nbformat": 4,
 "nbformat_minor": 4
}

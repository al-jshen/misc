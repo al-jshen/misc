{
 "cells": [
  {
   "cell_type": "code",
   "execution_count": 4,
   "metadata": {},
   "outputs": [],
   "source": [
    "import numpy as np\n",
    "import torch\n",
    "import gym\n",
    "import time\n",
    "from IPython.display import clear_output"
   ]
  },
  {
   "cell_type": "code",
   "execution_count": 14,
   "metadata": {},
   "outputs": [
    {
     "name": "stdout",
     "output_type": "stream",
     "text": [
      "\n",
      "\u001b[41mS\u001b[0mFFF\n",
      "FHFH\n",
      "FFFH\n",
      "HFFG\n"
     ]
    }
   ],
   "source": [
    "env = gym.make('FrozenLake-v0')\n",
    "env.render()"
   ]
  },
  {
   "cell_type": "code",
   "execution_count": 15,
   "metadata": {},
   "outputs": [],
   "source": [
    "episodes = 10000\n",
    "max_steps = 100\n",
    "\n",
    "learning_rate = 0.3\n",
    "discount_rate = 0.98\n",
    "\n",
    "exploration_rate = 1\n",
    "exploration_decay_rate = 0.001"
   ]
  },
  {
   "cell_type": "code",
   "execution_count": 16,
   "metadata": {},
   "outputs": [],
   "source": [
    "action_size = env.action_space.n\n",
    "state_size = env.observation_space.n\n",
    "q_tab = np.zeros((state_size, action_size))\n",
    "\n",
    "all_rewards = []\n",
    "\n",
    "for e in range(episodes):\n",
    "    state = env.reset()\n",
    "    done = False\n",
    "    current_reward = 0\n",
    "    \n",
    "    for step in range(max_steps):\n",
    "        #explore or exploit?\n",
    "        explore_threshold = np.random.rand(1)\n",
    "        if explore_threshold > exploration_rate:\n",
    "            action = np.argmax(q_tab[state,])\n",
    "        else:\n",
    "            action = env.action_space.sample()\n",
    "        \n",
    "        new_state, reward, done, info = env.step(action)\n",
    "        \n",
    "        #update q-table\n",
    "        q_tab[state, action] = (1 - learning_rate) * q_tab[state, action] + \\\n",
    "                                learning_rate * (reward + discount_rate * q_tab[new_state,].max())\n",
    "        \n",
    "        state = new_state\n",
    "        current_reward += reward\n",
    "        \n",
    "        if done:\n",
    "            break\n",
    "            \n",
    "    if e == 7000:\n",
    "        exploration_rate = 0\n",
    "    all_rewards.append(current_reward)       \n",
    "        "
   ]
  },
  {
   "cell_type": "code",
   "execution_count": null,
   "metadata": {},
   "outputs": [
    {
     "name": "stdout",
     "output_type": "stream",
     "text": [
      "14.0\n",
      "13.0\n",
      "15.0\n",
      "16.0\n",
      "18.0\n",
      "22.0\n",
      "16.0\n",
      "662.0\n",
      "743.0\n",
      "724.0\n"
     ]
    }
   ],
   "source": [
    "all_rewards = np.array(all_rewards)\n",
    "\n",
    "for chunk in np.split(all_rewards, 10):\n",
    "    print(sum(chunk))"
   ]
  },
  {
   "cell_type": "code",
   "execution_count": null,
   "metadata": {},
   "outputs": [
    {
     "name": "stdout",
     "output_type": "stream",
     "text": [
      "  (Up)\n",
      "SFFF\n",
      "FHFH\n",
      "F\u001b[41mF\u001b[0mFH\n",
      "HFFG\n"
     ]
    }
   ],
   "source": [
    "vis = 3\n",
    "\n",
    "for e in range(vis):\n",
    "    state = env.reset()\n",
    "    done = False\n",
    "    print(f'*********** EPISODE {e+1} ***********\\n\\n\\n')\n",
    "    time.sleep(1)\n",
    "    \n",
    "    for step in range(max_steps):\n",
    "        clear_output(wait=True)\n",
    "        env.render()\n",
    "        time.sleep(0.3)\n",
    "        action = np.argmax(q_tab[state,])\n",
    "        new_state, reward, done, info = env.step(action)\n",
    "    \n",
    "        if done:\n",
    "            clear_output(wait=True)\n",
    "            env.render()\n",
    "            \n",
    "            if reward == 1:\n",
    "                print('Success!')\n",
    "                time.sleep(3)\n",
    "            else:\n",
    "                print('You fell through a hole!')\n",
    "                time.sleep(3)\n",
    "                \n",
    "            clear_output(wait=True)\n",
    "            break\n",
    "            \n",
    "        state = new_state\n",
    "        \n",
    "env.close()"
   ]
  },
  {
   "cell_type": "code",
   "execution_count": null,
   "metadata": {},
   "outputs": [],
   "source": []
  }
 ],
 "metadata": {
  "kernelspec": {
   "display_name": "Python 3",
   "language": "python",
   "name": "python3"
  },
  "language_info": {
   "codemirror_mode": {
    "name": "ipython",
    "version": 3
   },
   "file_extension": ".py",
   "mimetype": "text/x-python",
   "name": "python",
   "nbconvert_exporter": "python",
   "pygments_lexer": "ipython3",
   "version": "3.7.2"
  }
 },
 "nbformat": 4,
 "nbformat_minor": 2
}

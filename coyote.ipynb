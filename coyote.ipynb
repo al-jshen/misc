{
 "cells": [
  {
   "cell_type": "code",
   "execution_count": 2,
   "id": "ebba00e1-2f06-40fd-a7c7-b7b3386c0ff6",
   "metadata": {},
   "outputs": [],
   "source": [
    "import warnings\n",
    "\n",
    "import matplotlib.pyplot as plt\n",
    "import numpy as np\n",
    "import seaborn as sns\n",
    "from joblib import Parallel, delayed\n",
    "from scipy.stats import binom\n",
    "from tqdm.auto import tqdm\n",
    "\n",
    "warnings.filterwarnings(\"ignore\")"
   ]
  },
  {
   "cell_type": "code",
   "execution_count": 3,
   "id": "d609dbef-0176-4d93-917e-2e12539b181b",
   "metadata": {},
   "outputs": [],
   "source": [
    "cards = np.array([-10, -5, 0, 1, 2, 3, 4, 5, 6, 7, 8, 9, 10, 15, 20, np.inf, -np.inf])"
   ]
  },
  {
   "cell_type": "code",
   "execution_count": 4,
   "id": "4021a48b-93d6-4d45-a095-367b7f1acb39",
   "metadata": {},
   "outputs": [],
   "source": [
    "def sim(m0=True, qm=True, seen=None, players=5):\n",
    "\n",
    "    seen = np.array(seen)\n",
    "    x = np.random.choice(\n",
    "        np.setdiff1d(cards, seen), size=players + 1 - seen.size, replace=False\n",
    "    )\n",
    "    x = np.append(x, seen)\n",
    "\n",
    "    if np.inf in x:  # question mark, add another random card\n",
    "        if not qm:\n",
    "            return np.inf\n",
    "        extra = np.random.choice(np.setdiff1d(cards, x))\n",
    "        x = x[x != np.inf]\n",
    "        x = np.append(x, extra)\n",
    "\n",
    "    if -np.inf in x:  # max 0, deletes the maximum\n",
    "        if not m0:\n",
    "            return -np.inf\n",
    "        x = x[x != -np.inf]\n",
    "        x = x[x != np.max(x)]\n",
    "\n",
    "    return x.sum()"
   ]
  },
  {
   "cell_type": "code",
   "execution_count": 5,
   "id": "e211fb29-06bc-4582-9dc6-b6c7d4d6b134",
   "metadata": {},
   "outputs": [
    {
     "data": {
      "text/plain": [
       "(3, 7)"
      ]
     },
     "execution_count": 5,
     "metadata": {},
     "output_type": "execute_result"
    }
   ],
   "source": [
    "games = np.array([1, 0, 1, 0, 1, 0, 0, 0, 0, 0])\n",
    "(games == 1).sum(), (games == 0).sum()"
   ]
  },
  {
   "cell_type": "code",
   "execution_count": 22,
   "id": "6a51cc74-80b5-4c18-a792-fd2d8544c713",
   "metadata": {},
   "outputs": [
    {
     "data": {
      "application/vnd.jupyter.widget-view+json": {
       "model_id": "0c4335a52dde49da81e8f910d6006447",
       "version_major": 2,
       "version_minor": 0
      },
      "text/plain": [
       "  0%|          | 0/100000 [00:00<?, ?it/s]"
      ]
     },
     "metadata": {},
     "output_type": "display_data"
    }
   ],
   "source": [
    "seen = [3, 5, 6, -10, -np.inf]\n",
    "players = 5\n",
    "nsims = 100_000\n",
    "x = np.array(\n",
    "    Parallel(n_jobs=-1)(\n",
    "        delayed(sim)(seen=seen, players=players) for _ in tqdm(range(nsims))\n",
    "    )\n",
    ")"
   ]
  },
  {
   "cell_type": "code",
   "execution_count": 23,
   "id": "c6e06db7-b030-401d-a230-7bad1f89c65f",
   "metadata": {},
   "outputs": [
    {
     "name": "stdout",
     "output_type": "stream",
     "text": [
      "50.0%: 2.0\n",
      "guess=15: 1.0 bust\n"
     ]
    },
    {
     "data": {
      "image/png": "[encoded data removed]",
      "text/plain": [
       "<Figure size 640x480 with 1 Axes>"
      ]
     },
     "metadata": {},
     "output_type": "display_data"
    }
   ],
   "source": [
    "val, counts = np.unique(x, return_counts=True)\n",
    "ccounts = np.cumsum(counts)\n",
    "plt.plot(val, ccounts)\n",
    "\n",
    "alpha = 0.5\n",
    "gx = np.interp(alpha * nsims, ccounts, val)\n",
    "plt.axvline(gx)\n",
    "print(f\"{alpha*100}%:\", np.around(gx))\n",
    "\n",
    "beta = 15\n",
    "gy = np.interp(beta, val, ccounts)\n",
    "print(f\"guess={beta}:\", gy / nsims, \"bust\")"
   ]
  },
  {
   "cell_type": "code",
   "execution_count": 24,
   "id": "501268cc-25e2-4683-8aa9-54a761ef39cc",
   "metadata": {},
   "outputs": [
    {
     "data": {
      "text/plain": [
       "(1.46036, 3.4407802415149966)"
      ]
     },
     "execution_count": 24,
     "metadata": {},
     "output_type": "execute_result"
    }
   ],
   "source": [
    "x.mean(), x.std()"
   ]
  },
  {
   "cell_type": "code",
   "execution_count": null,
   "id": "15f98865-a736-414b-8b36-2685d7aaf0d2",
   "metadata": {},
   "outputs": [],
   "source": []
  }
 ],
 "metadata": {
  "kernelspec": {
   "display_name": "Python 3 (ipykernel)",
   "language": "python",
   "name": "python3"
  },
  "language_info": {
   "codemirror_mode": {
    "name": "ipython",
    "version": 3
   },
   "file_extension": ".py",
   "mimetype": "text/x-python",
   "name": "python",
   "nbconvert_exporter": "python",
   "pygments_lexer": "ipython3",
   "version": "3.10.4"
  }
 },
 "nbformat": 4,
 "nbformat_minor": 5
}

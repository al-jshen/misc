{
 "cells": [
  {
   "cell_type": "code",
   "execution_count": 64,
   "metadata": {},
   "outputs": [],
   "source": [
    "import numpy as np\n",
    "import matplotlib.pyplot as plt\n",
    "%matplotlib inline\n",
    "import seaborn as sns\n",
    "import matplotlib\n",
    "from scipy import stats as stats"
   ]
  },
  {
   "cell_type": "code",
   "execution_count": 66,
   "metadata": {},
   "outputs": [],
   "source": [
    "sns.set(rc={'axes.facecolor':'#23272e', 'figure.facecolor':'#23272e', 'axes.grid' : False})\n",
    "sns.set_palette('Pastel2')"
   ]
  },
  {
   "cell_type": "code",
   "execution_count": 3,
   "metadata": {},
   "outputs": [],
   "source": [
    "tfm = lambda x: np.exp(x) / (np.exp(x) + 1)"
   ]
  },
  {
   "cell_type": "code",
   "execution_count": 4,
   "metadata": {},
   "outputs": [],
   "source": [
    "cmap = sns.color_palette(\"dark:#6666ff\", as_cmap=True)\n",
    "cmap2 = sns.color_palette(\"light:#ffe0b3\", as_cmap=True)\n",
    "cmap3 = sns.color_palette(\"dark:#ffe0b3\", as_cmap=True)"
   ]
  },
  {
   "cell_type": "code",
   "execution_count": 157,
   "metadata": {},
   "outputs": [
    {
     "data": {
      "image/png": "[encoded data removed]",
      "text/plain": [
       "<Figure size 720x720 with 1 Axes>"
      ]
     },
     "metadata": {},
     "output_type": "display_data"
    }
   ],
   "source": [
    "disk = np.random.multivariate_normal((0, 0), np.array([[3.2, 0.9],[0.4, 0.3]]), size=2500)\n",
    "disk2 = np.random.multivariate_normal((0, 0), np.array([[2.5, 0.75],[0.75, 0.3]]), size=2000)\n",
    "bulge = np.random.multivariate_normal((0, 0), np.array([[0.2, 0],[0, 0.3]]), size=1000)\n",
    "halo = np.random.multivariate_normal((0, 0), np.array([[3, 0.5],[0.5, 3]]), size=10000)\n",
    "streak = np.random.multivariate_normal((0, 0), np.array([[3.2, 1],[0.4, 0.15]]), size=1000)\n",
    "stars = np.random.multivariate_normal((0, 0), np.array([[6, 0.5],[0.5, 6]]), size=50)\n",
    "\n",
    "gaussian = lambda x, mu=0, sigma=1: stats.norm(mu, sigma).pdf(x)\n",
    "x = np.linspace(-10, 10, 1000)\n",
    "g0 = gaussian(x, 0, 0.92)\n",
    "g1 = gaussian(x, 0, 2)\n",
    "g2 = gaussian(x, 0, 3)\n",
    "y1 = (np.sin(x) + np.cos(x)**2 + np.cosh(x)**(-0.2) + np.random.normal(0, 0.1)) * 0.7\n",
    "y2 = (np.cos(x) + (np.sin(x) + np.cos(x))**2 + np.cosh(x)**-0.1 + np.random.normal(0, 0.1)) * 0.5\n",
    "\n",
    "fig = plt.figure(figsize=(10, 10))\n",
    "ax = fig.add_subplot()\n",
    "ax.set_xlim(-4, 4)\n",
    "ax.set_ylim(-4, 4)\n",
    "# sns.scatterplot(bulge[:, 0], bulge[:, 1], alpha=0.4, x_jitter=True, y_jitter=True, ax=ax, hue=tfm(np.sqrt(np.square(bulge).sum(axis=1))), cmap=cmap2)\n",
    "# ax.scatter(stars[:int(len(stars) / 2), 0], stars[:int(len(stars) / 2), 1], alpha=0.3, c='#cceeff', marker='*')\n",
    "# ax.scatter(halo[:, 0], halo[:, 1], alpha=0.01, c=\"#ffffcc\")\n",
    "# ax.scatter(stars[int(len(stars) / 2):, 0], stars[int(len(stars) / 2):, 1], alpha=0.3, c='#cceeff', marker=\"*\")\n",
    "# ax.scatter(bulge[:, 0], bulge[:, 1], alpha=0.15, c=cmap2(tfm(np.sqrt(np.square(bulge).sum(axis=1)))))\n",
    "# ax.scatter(disk2[:, 0], disk2[:, 1], alpha=0.1, edgecolor=cmap3(tfm(np.sqrt(np.square(disk2).sum(axis=1)))), facecolor='none')\n",
    "# sns.scatterplot(disk[:, 0], disk[:, 1], alpha=0.2, x_jitter=True, y_jitter=True, ax=ax, hue=tfm(np.sqrt(np.square(disk).sum(axis=1))), cmap=cmap)\n",
    "# ax.scatter(streak[:, 0], streak[:, 1], alpha=0.05, c='#804000')\n",
    "# ax.scatter(streak[:, 0] + np.random.normal(0, 0.01, len(streak)), streak[:, 1] + np.random.normal(0, 0.01, len(streak)), alpha=0.03, c='#4d2600')\n",
    "\n",
    "ax.legend([], [], frameon=False)\n",
    "ax.axis('off')\n",
    "\n",
    "yshift = -3.\n",
    "yscale = 14\n",
    "plt.plot(x, yscale * g0 + yshift, c=\"#5E81AC\", lw=100)\n",
    "# plt.plot(x, yscale * g1 + yshift, c=\"#8FBCBB\", lw=25)\n",
    "# plt.plot(x, yscale * (g0 * g1) + yshift, c=\"#A3BE8C\", lw=25)\n",
    "# ax.annotate(\"Astrostatistics\\nResearch Team\", xy=(0.5, 0.05), xycoords='axes fraction', ha='center', color='#D8DEE9', fontsize=35, family='serif');\n",
    "\n",
    "# ax.annotate(\"J  S\", xy=(0.5, 0.4), xycoords='axes fraction', ha='center', color='white', fontsize=350, family='serif', alpha=0.5);\n",
    "\n",
    "plt.savefig('./logo.svg', dpi=400)\n"
   ]
  },
  {
   "cell_type": "code",
   "execution_count": null,
   "metadata": {},
   "outputs": [],
   "source": []
  }
 ],
 "metadata": {
  "kernelspec": {
   "display_name": "Python 3.8.2 64-bit",
   "language": "python",
   "name": "python38264bit51ac865642c54dc8af66b510f89bf5d6"
  },
  "language_info": {
   "codemirror_mode": {
    "name": "ipython",
    "version": 3
   },
   "file_extension": ".py",
   "mimetype": "text/x-python",
   "name": "python",
   "nbconvert_exporter": "python",
   "pygments_lexer": "ipython3",
   "version": "3.8.5"
  }
 },
 "nbformat": 4,
 "nbformat_minor": 4
}

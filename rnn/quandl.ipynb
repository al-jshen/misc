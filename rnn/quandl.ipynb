{
 "cells": [
  {
   "cell_type": "code",
   "execution_count": 16,
   "metadata": {},
   "outputs": [],
   "source": [
    "import numpy as np\n",
    "import pandas as pd\n",
    "import quandl \n",
    "import matplotlib.pyplot as plt\n",
    "%matplotlib inline\n",
    "from pandas.plotting import register_matplotlib_converters\n",
    "import torch\n",
    "from torch import nn, optim\n",
    "import pickle"
   ]
  },
  {
   "cell_type": "code",
   "execution_count": 2,
   "metadata": {},
   "outputs": [],
   "source": [
    "quandl.ApiConfig.api_key = 'umQRdEcxaVzMFsfVPJ_y'\n",
    "register_matplotlib_converters()"
   ]
  },
  {
   "cell_type": "code",
   "execution_count": 3,
   "metadata": {},
   "outputs": [],
   "source": [
    "data = quandl.get('WIKI/AAPL')"
   ]
  },
  {
   "cell_type": "code",
   "execution_count": 4,
   "metadata": {},
   "outputs": [
    {
     "data": {
      "text/plain": [
       "Index(['Open', 'High', 'Low', 'Close', 'Volume', 'Ex-Dividend', 'Split Ratio',\n",
       "       'Adj. Open', 'Adj. High', 'Adj. Low', 'Adj. Close', 'Adj. Volume'],\n",
       "      dtype='object')"
      ]
     },
     "execution_count": 4,
     "metadata": {},
     "output_type": "execute_result"
    }
   ],
   "source": [
    "data.columns"
   ]
  },
  {
   "cell_type": "code",
   "execution_count": 5,
   "metadata": {},
   "outputs": [
    {
     "data": {
      "text/plain": [
       "[<matplotlib.lines.Line2D at 0x115167e10>]"
      ]
     },
     "execution_count": 5,
     "metadata": {},
     "output_type": "execute_result"
    },
    {
     "data": {
      "image/png": "[encoded data removed]",
      "text/plain": [
       "<Figure size 432x288 with 1 Axes>"
      ]
     },
     "metadata": {
      "needs_background": "light"
     },
     "output_type": "display_data"
    }
   ],
   "source": [
    "plt.plot(data['Adj. Close'])"
   ]
  },
  {
   "cell_type": "code",
   "execution_count": 25,
   "metadata": {},
   "outputs": [],
   "source": [
    "batch_size = 64"
   ]
  },
  {
   "cell_type": "code",
   "execution_count": 74,
   "metadata": {},
   "outputs": [],
   "source": [
    "dat = torch.tensor(data['Adj. Close'])\n",
    "truncate_length = len(dat) - (int(len(dat) / 64) * 64)\n",
    "dat = dat[truncate_length-1:]\n",
    "x = dat[:-1] / max(dat)\n",
    "y = dat[1:] / max(dat)\n",
    "times = np.arange(len(y))"
   ]
  },
  {
   "cell_type": "code",
   "execution_count": 27,
   "metadata": {},
   "outputs": [],
   "source": [
    "class lstm(nn.Module):\n",
    "    def __init__(self, input_dim, output_dim, hidden_dim, num_layers, batch_size, dropout):\n",
    "        super(lstm, self).__init__()\n",
    "        self.input_dim = input_dim\n",
    "        self.output_dim = output_dim\n",
    "        self.hidden_dim = hidden_dim\n",
    "        self.batch_size = batch_size\n",
    "        self.num_layers = num_layers\n",
    "        self.dropout = dropout\n",
    "\n",
    "        self.lstm = nn.LSTM(self.input_dim, self.hidden_dim, self.num_layers, batch_first=True, dropout=self.dropout)\n",
    "        self.output = nn.Linear(self.hidden_dim, self.output_dim)\n",
    "        \n",
    "    def forward(self, x, hidden):\n",
    "        x = x.reshape(self.batch_size, -1, self.input_dim)\n",
    "        out, hidden = self.lstm(x)\n",
    "        out.reshape(-1, self.hidden_dim)\n",
    "        out = self.output(out)\n",
    "        return(out, hidden)"
   ]
  },
  {
   "cell_type": "code",
   "execution_count": 69,
   "metadata": {},
   "outputs": [
    {
     "name": "stdout",
     "output_type": "stream",
     "text": [
      "lstm(\n",
      "  (lstm): LSTM(1, 32, num_layers=2, batch_first=True, dropout=0.7)\n",
      "  (output): Linear(in_features=32, out_features=1, bias=True)\n",
      ")\n"
     ]
    }
   ],
   "source": [
    "model = lstm(input_dim=1, output_dim=1, hidden_dim=32, num_layers=2, batch_size=batch_size, dropout=0.7)\n",
    "print(model)"
   ]
  },
  {
   "cell_type": "code",
   "execution_count": 71,
   "metadata": {},
   "outputs": [],
   "source": [
    "loss_fn = nn.MSELoss()\n",
    "optimizer = optim.SGD(model.parameters(), lr=1e-2, momentum=0.5)"
   ]
  },
  {
   "cell_type": "code",
   "execution_count": 29,
   "metadata": {},
   "outputs": [
    {
     "data": {
      "text/plain": [
       "lstm(\n",
       "  (lstm): LSTM(1, 16, batch_first=True)\n",
       "  (output): Linear(in_features=16, out_features=1, bias=True)\n",
       ")"
      ]
     },
     "execution_count": 29,
     "metadata": {},
     "output_type": "execute_result"
    }
   ],
   "source": [
    "f = open('/Users/js/programs/hidden.pckl', 'rb')\n",
    "hidden = pickle.load(f)\n",
    "f.close()\n",
    "\n",
    "model = torch.load('/Users/js/programs/lstm-stock-time-series.pt')\n",
    "model.eval()"
   ]
  },
  {
   "cell_type": "code",
   "execution_count": null,
   "metadata": {},
   "outputs": [
    {
     "name": "stdout",
     "output_type": "stream",
     "text": [
      "0.046946968883275986\n"
     ]
    },
    {
     "data": {
      "image/png": "[encoded data removed]",
      "text/plain": [
       "<Figure size 1080x360 with 1 Axes>"
      ]
     },
     "metadata": {
      "needs_background": "light"
     },
     "output_type": "display_data"
    }
   ],
   "source": [
    "epochs = 500\n",
    "show_every = 100\n",
    "\n",
    "model.train()\n",
    "for e in range(epochs):\n",
    "    model.zero_grad()\n",
    "    prediction, hidden = model(x, hidden)\n",
    "    loss = loss_fn(prediction, y)\n",
    "    loss.backward()\n",
    "    optimizer.step()\n",
    "    if (e+1) % show_every == 0:\n",
    "        print(loss.item())\n",
    "        plt.figure(figsize=(15, 5))\n",
    "        prediction = prediction.reshape(-1, 1)\n",
    "        prediction = prediction.detach().numpy()\n",
    "        plt.scatter(times, y.reshape(-1, 1), color='b')\n",
    "        plt.scatter(times, prediction, color='r')\n",
    "        plt.show()"
   ]
  },
  {
   "cell_type": "code",
   "execution_count": 76,
   "metadata": {},
   "outputs": [
    {
     "name": "stdout",
     "output_type": "stream",
     "text": [
      "0.055939555168151855\n"
     ]
    },
    {
     "data": {
      "image/png": "[encoded data removed]",
      "text/plain": [
       "<Figure size 1080x360 with 1 Axes>"
      ]
     },
     "metadata": {
      "needs_background": "light"
     },
     "output_type": "display_data"
    }
   ],
   "source": [
    "model.eval()\n",
    "prediction, hidden = model(x, hidden)\n",
    "loss = loss_fn(prediction, y)\n",
    "print(loss.item())\n",
    "plt.figure(figsize=(15, 5))\n",
    "prediction = prediction.reshape(-1, 1)\n",
    "prediction = prediction.detach().numpy()\n",
    "plt.scatter(times, y.reshape(-1, 1), color='b')\n",
    "plt.scatter(times, prediction, color='r')\n",
    "plt.show()"
   ]
  },
  {
   "cell_type": "code",
   "execution_count": null,
   "metadata": {},
   "outputs": [],
   "source": []
  }
 ],
 "metadata": {
  "kernelspec": {
   "display_name": "Python 3",
   "language": "python",
   "name": "python3"
  },
  "language_info": {
   "codemirror_mode": {
    "name": "ipython",
    "version": 3
   },
   "file_extension": ".py",
   "mimetype": "text/x-python",
   "name": "python",
   "nbconvert_exporter": "python",
   "pygments_lexer": "ipython3",
   "version": "3.7.2"
  }
 },
 "nbformat": 4,
 "nbformat_minor": 2
}

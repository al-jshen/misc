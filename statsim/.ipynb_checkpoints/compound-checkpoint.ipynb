{
 "cells": [
  {
   "cell_type": "code",
   "execution_count": 1,
   "metadata": {},
   "outputs": [],
   "source": [
    "import numpy as np\n",
    "import matplotlib.pyplot as plt\n",
    "import seaborn as sns\n",
    "import pandas as pd\n",
    "from collections import OrderedDict"
   ]
  },
  {
   "cell_type": "code",
   "execution_count": 19,
   "metadata": {},
   "outputs": [],
   "source": [
    "# prevent scientific notation in dataframe, round to 2 decimal places\n",
    "pd.set_option('display.float_format', lambda x: '%.2f' % x)\n",
    "sns.set_style(\"dark\")"
   ]
  },
  {
   "cell_type": "code",
   "execution_count": null,
   "metadata": {},
   "outputs": [],
   "source": [
    "trials = 10\n",
    "time_length=20\n",
    "min_interest = 1\n",
    "max_interest = 8\n",
    "volatility=11\n",
    "contributions = [i*10000 for i in [3, 4, 5, 6, 7, 8, 9, 10]]\n",
    "principal = 0\n",
    "interest_rates = np.arange(min_interest, max_interest+0.1, 1)"
   ]
  },
  {
   "cell_type": "code",
   "execution_count": null,
   "metadata": {},
   "outputs": [],
   "source": [
    "def run_trial(contribution=10000, principal=0, volatility=10, time_length=20):\n",
    "\n",
    "    di = {}\n",
    "\n",
    "    for rate in interest_rates:\n",
    "        prices = np.zeros(time_length)\n",
    "        prices[0] = principal\n",
    "\n",
    "        for i in np.arange(1, time_length, 1):\n",
    "            # last price + contribution, x interest, x random volatility factor\n",
    "            prices[i] = (prices[i-1] + contribution) * (1 + rate/100) * (np.random.normal(1, volatility/100))\n",
    "\n",
    "        di[rate] = prices\n",
    "\n",
    "    return di"
   ]
  },
  {
   "cell_type": "code",
   "execution_count": null,
   "metadata": {},
   "outputs": [],
   "source": [
    "dat = {amount:[run_trial(contribution=amount, principal=principal, volatility=volatility) for i in range(trials)] for amount in contributions}"
   ]
  },
  {
   "cell_type": "code",
   "execution_count": null,
   "metadata": {},
   "outputs": [],
   "source": [
    "average_returns = []\n",
    "# for each contribution amount, calculate return for each rate, averaged over all trials\n",
    "for idx1, contrib in enumerate(contributions): # for each contribution amount\n",
    "    this_contrib = []\n",
    "    for idx2, all_trials in enumerate(dat[contrib]): # average over all trials\n",
    "        this_trial = []\n",
    "        for idx3, rates in enumerate(interest_rates): # for each rate\n",
    "            this_trial.append(dat[contrib][idx2][rates][-1])\n",
    "        this_contrib.append(this_trial)\n",
    "    average_returns.append(this_contrib)\n"
   ]
  },
  {
   "cell_type": "code",
   "execution_count": null,
   "metadata": {},
   "outputs": [],
   "source": [
    "average_returns = np.array(average_returns).mean(1) # average of dim2 (trials)\n",
    "ar = pd.DataFrame(average_returns)\n",
    "\n",
    "ar.columns = interest_rates\n",
    "ar.columns.names = ['Rates']\n",
    "ar.index = contributions\n",
    "ar.index.names = ['Yearly Contributions']\n",
    "\n",
    "own_contributions = [principal + contrib * time_length for contrib in contributions]\n",
    "ar['Total Contributed'] = own_contributions"
   ]
  },
  {
   "cell_type": "code",
   "execution_count": null,
   "metadata": {},
   "outputs": [],
   "source": [
    "ar"
   ]
  },
  {
   "cell_type": "code",
   "execution_count": null,
   "metadata": {
    "scrolled": false
   },
   "outputs": [],
   "source": [
    "fig, axes = plt.subplots(len(contributions), figsize=((16, 40)), dpi=421)\n",
    "plt.suptitle(f'Monte Carlo Simulation (n={trials}) of Possible Returns Over {time_length} Years at {volatility}% Volatility')\n",
    "\n",
    "for idx, (contrib_key, contrib_value) in enumerate(dat.items()):\n",
    "    for trial in contrib_value:\n",
    "        for rate_key, rate_value in trial.items():\n",
    "            sns.lineplot(data=rate_value, ax=axes[idx], label=f'At {rate_key}%: ${ar.loc[contrib_key, rate_key]:,.2f} Average Return')\n",
    "        # reset colour cycle\n",
    "        axes[idx].set_prop_cycle(None)\n",
    "\n",
    "        # remove duplicates and put yearly contributions in the legend\n",
    "        handles, labels = axes[idx].get_legend_handles_labels()\n",
    "        by_label = OrderedDict(zip(labels, handles))\n",
    "        axes[idx].legend(by_label.values(), by_label.keys(), title=f'${contrib_key:,.2f} Yearly Contribution\\n')"
   ]
  },
  {
   "cell_type": "code",
   "execution_count": null,
   "metadata": {},
   "outputs": [],
   "source": []
  }
 ],
 "metadata": {
  "kernelspec": {
   "display_name": "Python 3",
   "language": "python",
   "name": "python3"
  },
  "language_info": {
   "codemirror_mode": {
    "name": "ipython",
    "version": 3
   },
   "file_extension": ".py",
   "mimetype": "text/x-python",
   "name": "python",
   "nbconvert_exporter": "python",
   "pygments_lexer": "ipython3",
   "version": "3.7.2"
  }
 },
 "nbformat": 4,
 "nbformat_minor": 2
}

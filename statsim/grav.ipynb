{
 "cells": [
  {
   "cell_type": "code",
   "execution_count": 272,
   "metadata": {},
   "outputs": [],
   "source": [
    "import numpy as np\n",
    "import matplotlib\n",
    "import matplotlib.pyplot as plt\n",
    "%matplotlib inline\n",
    "from IPython.display import clear_output\n",
    "import os"
   ]
  },
  {
   "cell_type": "code",
   "execution_count": 240,
   "metadata": {},
   "outputs": [],
   "source": [
    "au = 1.496e11\n",
    "G = 6.67e-11"
   ]
  },
  {
   "cell_type": "code",
   "execution_count": 123,
   "metadata": {},
   "outputs": [],
   "source": [
    "class particle:\n",
    "    def __init__(self, pos, velocity=0., mass=1.):\n",
    "        self.pos = float(pos)\n",
    "        self.velocity = float(velocity)\n",
    "        self.mass = float(mass)\n",
    "    \n",
    "    def update_grav(self, accel):\n",
    "        self.velocity += accel\n",
    "        \n",
    "    def move(self):\n",
    "        self.pos += self.velocity"
   ]
  },
  {
   "cell_type": "code",
   "execution_count": 53,
   "metadata": {},
   "outputs": [],
   "source": [
    "def get_colours(palette, n):\n",
    "    clrs = []\n",
    "    cmap = matplotlib.cm.get_cmap(palette, n)\n",
    "    for i in range(cmap.N):\n",
    "        rgb = cmap(i)[:3]\n",
    "        clrs.append(matplotlib.colors.rgb2hex(rgb))\n",
    "    return clrs"
   ]
  },
  {
   "cell_type": "code",
   "execution_count": 81,
   "metadata": {},
   "outputs": [],
   "source": [
    "\n",
    "def grav(part_a, part_b):\n",
    "    dist = part_b.pos - part_a.pos\n",
    "    if dist != 0:\n",
    "        on_a = G * part_b.mass / dist\n",
    "    else:\n",
    "        on_a = 0\n",
    "    part_a.update_grav(on_a)\n",
    "    part_b.update_grav(-on_a)"
   ]
  },
  {
   "cell_type": "code",
   "execution_count": 82,
   "metadata": {},
   "outputs": [],
   "source": [
    "def step(parts):\n",
    "    for aidx, aval in enumerate(parts):\n",
    "        for bidx, bval in enumerate(parts[aidx:]):\n",
    "            grav(aval, bval)\n",
    "    for i in parts:\n",
    "        i.move()"
   ]
  },
  {
   "cell_type": "code",
   "execution_count": 241,
   "metadata": {},
   "outputs": [],
   "source": [
    "def plot_parts(parts, save=None):\n",
    "    fig = plt.figure(figsize=(10, 10))\n",
    "    plt.xlim(-5*au, 5*au)\n",
    "    plt.ylim(-5*au, 5*au)\n",
    "    plt.scatter(*zip(*[(i.pos, i.velocity) for i in parts]), c=clrs)\n",
    "    if save:\n",
    "        plt.savefig(save)\n",
    "    plt.close()"
   ]
  },
  {
   "cell_type": "code",
   "execution_count": 294,
   "metadata": {},
   "outputs": [],
   "source": [
    "def integrate(parts, steps, savedir=None, start=0):\n",
    "    for i in np.arange(start, start+steps):\n",
    "        if savedir:\n",
    "            pth = f'{savedir}/fig_{i+1:04}.png'\n",
    "        plot_parts(parts, save=pth)\n",
    "        step(parts)\n",
    "    os.system(f'ffmpeg -framerate 30 -pattern_type glob -i \\'{savedir}/fig_*.png\\' -c:v libx264 -pix_fmt yuv420p {savedir}/out.mp4')"
   ]
  },
  {
   "cell_type": "code",
   "execution_count": 298,
   "metadata": {},
   "outputs": [],
   "source": [
    "n_bodies = 5\n",
    "init_pos = np.linspace(-(n_bodies // 2)*au, (n_bodies // 2)*au, n_bodies)\n",
    "clrs = get_colours('autumn', n_bodies)"
   ]
  },
  {
   "cell_type": "code",
   "execution_count": 299,
   "metadata": {},
   "outputs": [],
   "source": [
    "init_parts = []\n",
    "\n",
    "for pos, clr in zip(init_pos, init_clrs):\n",
    "    part = particle(pos, mass=5e28)\n",
    "    init_parts.append(part)"
   ]
  },
  {
   "cell_type": "code",
   "execution_count": 300,
   "metadata": {},
   "outputs": [],
   "source": [
    "integrate(init_parts, 100, 'grav2', start=0)"
   ]
  },
  {
   "cell_type": "code",
   "execution_count": null,
   "metadata": {},
   "outputs": [],
   "source": []
  }
 ],
 "metadata": {
  "kernelspec": {
   "display_name": "Python 3",
   "language": "python",
   "name": "python3"
  },
  "language_info": {
   "codemirror_mode": {
    "name": "ipython",
    "version": 3
   },
   "file_extension": ".py",
   "mimetype": "text/x-python",
   "name": "python",
   "nbconvert_exporter": "python",
   "pygments_lexer": "ipython3",
   "version": "3.7.6"
  }
 },
 "nbformat": 4,
 "nbformat_minor": 4
}

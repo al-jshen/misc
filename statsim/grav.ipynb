{
 "cells": [
  {
   "cell_type": "code",
   "execution_count": 12,
   "metadata": {},
   "outputs": [],
   "source": [
    "import numpy as np\n",
    "import matplotlib\n",
    "import matplotlib.pyplot as plt\n",
    "%matplotlib inline\n",
    "from IPython.display import clear_output, Video\n",
    "import os"
   ]
  },
  {
   "cell_type": "code",
   "execution_count": 2,
   "metadata": {},
   "outputs": [],
   "source": [
    "au = 1.496e11\n",
    "G = 6.67e-11"
   ]
  },
  {
   "cell_type": "code",
   "execution_count": 3,
   "metadata": {},
   "outputs": [],
   "source": [
    "class particle:\n",
    "    def __init__(self, pos, velocity=0., mass=1.):\n",
    "        self.pos = float(pos)\n",
    "        self.velocity = float(velocity)\n",
    "        self.mass = float(mass)\n",
    "    \n",
    "    def update_grav(self, accel):\n",
    "        self.velocity += accel\n",
    "        \n",
    "    def move(self):\n",
    "        self.pos += self.velocity"
   ]
  },
  {
   "cell_type": "code",
   "execution_count": 4,
   "metadata": {},
   "outputs": [],
   "source": [
    "def get_colours(palette, n):\n",
    "    clrs = []\n",
    "    cmap = matplotlib.cm.get_cmap(palette, n)\n",
    "    for i in range(cmap.N):\n",
    "        rgb = cmap(i)[:3]\n",
    "        clrs.append(matplotlib.colors.rgb2hex(rgb))\n",
    "    return clrs"
   ]
  },
  {
   "cell_type": "code",
   "execution_count": 5,
   "metadata": {},
   "outputs": [],
   "source": [
    "\n",
    "def grav(part_a, part_b):\n",
    "    dist = part_b.pos - part_a.pos\n",
    "    if dist != 0:\n",
    "        on_a = G * part_b.mass / dist\n",
    "    else:\n",
    "        on_a = 0\n",
    "    part_a.update_grav(on_a)\n",
    "    part_b.update_grav(-on_a)"
   ]
  },
  {
   "cell_type": "code",
   "execution_count": 6,
   "metadata": {},
   "outputs": [],
   "source": [
    "def step(parts):\n",
    "    for aidx, aval in enumerate(parts):\n",
    "        for bidx, bval in enumerate(parts[aidx:]):\n",
    "            grav(aval, bval)\n",
    "    for i in parts:\n",
    "        i.move()"
   ]
  },
  {
   "cell_type": "code",
   "execution_count": 57,
   "metadata": {},
   "outputs": [],
   "source": [
    "def plot_parts(parts, save=None):\n",
    "    fig = plt.figure(figsize=(10, 10))\n",
    "    plt.xlim(-5*au, 5*au)\n",
    "    plt.ylim(-au, au)\n",
    "    plt.scatter(*zip(*[(i.pos, i.velocity) for i in parts]), c=clrs)\n",
    "    if save:\n",
    "        plt.savefig(save)\n",
    "    plt.close()"
   ]
  },
  {
   "cell_type": "code",
   "execution_count": 53,
   "metadata": {},
   "outputs": [],
   "source": [
    "def integrate(parts, steps, savedir=None, start=0):\n",
    "    if start == 0:\n",
    "        !rm {savedir}/fig_*.png\n",
    "    for i in np.arange(start, start+steps):\n",
    "        if savedir:\n",
    "            pth = f'{savedir}/fig_{i+1:04}.png'\n",
    "        plot_parts(parts, save=pth)\n",
    "        step(parts)\n",
    "    !ffmpeg -y -framerate 30 -pattern_type glob -i '{savedir}/fig_*.png' -c:v libx264 -pix_fmt yuv420p {savedir}/out.mp4"
   ]
  },
  {
   "cell_type": "code",
   "execution_count": 66,
   "metadata": {},
   "outputs": [],
   "source": [
    "init_parts = []\n",
    "n_bodies = 10\n",
    "workingdir = 'grav'\n",
    "\n",
    "init_pos = np.linspace(-(n_bodies // 2)*au, (n_bodies // 2)*au, n_bodies)\n",
    "clrs = get_colours('inferno', n_bodies)\n",
    "\n",
    "for pos, clr in zip(init_pos, clrs):\n",
    "    part = particle(pos, mass=1e30)\n",
    "    init_parts.append(part)"
   ]
  },
  {
   "cell_type": "code",
   "execution_count": 67,
   "metadata": {},
   "outputs": [
    {
     "name": "stdout",
     "output_type": "stream",
     "text": [
      "ffmpeg version 4.2.2 Copyright (c) 2000-2019 the FFmpeg developers\n",
      "  built with Apple clang version 11.0.0 (clang-1100.0.33.16)\n",
      "  configuration: --prefix=/usr/local/Cellar/ffmpeg/4.2.2 --enable-shared --enable-pthreads --enable-version3 --enable-avresample --cc=clang --host-cflags='-I/Library/Java/JavaVirtualMachines/adoptopenjdk-13.0.1.jdk/Contents/Home/include -I/Library/Java/JavaVirtualMachines/adoptopenjdk-13.0.1.jdk/Contents/Home/include/darwin -fno-stack-check' --host-ldflags= --enable-ffplay --enable-gnutls --enable-gpl --enable-libaom --enable-libbluray --enable-libmp3lame --enable-libopus --enable-librubberband --enable-libsnappy --enable-libtesseract --enable-libtheora --enable-libvidstab --enable-libvorbis --enable-libvpx --enable-libx264 --enable-libx265 --enable-libxvid --enable-lzma --enable-libfontconfig --enable-libfreetype --enable-frei0r --enable-libass --enable-libopencore-amrnb --enable-libopencore-amrwb --enable-libopenjpeg --enable-librtmp --enable-libspeex --enable-libsoxr --enable-videotoolbox --disable-libjack --disable-indev=jack\n",
      "  libavutil      56. 31.100 / 56. 31.100\n",
      "  libavcodec     58. 54.100 / 58. 54.100\n",
      "  libavformat    58. 29.100 / 58. 29.100\n",
      "  libavdevice    58.  8.100 / 58.  8.100\n",
      "  libavfilter     7. 57.100 /  7. 57.100\n",
      "  libavresample   4.  0.  0 /  4.  0.  0\n",
      "  libswscale      5.  5.100 /  5.  5.100\n",
      "  libswresample   3.  5.100 /  3.  5.100\n",
      "  libpostproc    55.  5.100 / 55.  5.100\n",
      "Input #0, image2, from 'grav/fig_*.png':\n",
      "  Duration: 00:00:08.33, start: 0.000000, bitrate: N/A\n",
      "    Stream #0:0: Video: png, rgba(pc), 720x720 [SAR 2834:2834 DAR 1:1], 30 fps, 30 tbr, 30 tbn, 30 tbc\n",
      "Stream mapping:\n",
      "  Stream #0:0 -> #0:0 (png (native) -> h264 (libx264))\n",
      "Press [q] to stop, [?] for help\n",
      "\u001b[1;36m[libx264 @ 0x7fd288000c00] \u001b[0musing SAR=1/1\n",
      "\u001b[1;36m[libx264 @ 0x7fd288000c00] \u001b[0musing cpu capabilities: MMX2 SSE2Fast SSSE3 SSE4.2 AVX FMA3 BMI2 AVX2\n",
      "\u001b[1;36m[libx264 @ 0x7fd288000c00] \u001b[0mprofile High, level 3.1\n",
      "\u001b[1;36m[libx264 @ 0x7fd288000c00] \u001b[0m264 - core 155 r2917 0a84d98 - H.264/MPEG-4 AVC codec - Copyleft 2003-2018 - http://www.videolan.org/x264.html - options: cabac=1 ref=3 deblock=1:0:0 analyse=0x3:0x113 me=hex subme=7 psy=1 psy_rd=1.00:0.00 mixed_ref=1 me_range=16 chroma_me=1 trellis=1 8x8dct=1 cqm=0 deadzone=21,11 fast_pskip=1 chroma_qp_offset=-2 threads=12 lookahead_threads=2 sliced_threads=0 nr=0 decimate=1 interlaced=0 bluray_compat=0 constrained_intra=0 bframes=3 b_pyramid=2 b_adapt=1 b_bias=0 direct=1 weightb=1 open_gop=0 weightp=2 keyint=250 keyint_min=25 scenecut=40 intra_refresh=0 rc_lookahead=40 rc=crf mbtree=1 crf=23.0 qcomp=0.60 qpmin=0 qpmax=69 qpstep=4 ip_ratio=1.40 aq=1:1.00\n",
      "Output #0, mp4, to 'grav/out.mp4':\n",
      "  Metadata:\n",
      "    encoder         : Lavf58.29.100\n",
      "    Stream #0:0: Video: h264 (libx264) (avc1 / 0x31637661), yuv420p, 720x720 [SAR 1:1 DAR 1:1], q=-1--1, 30 fps, 15360 tbn, 30 tbc\n",
      "    Metadata:\n",
      "      encoder         : Lavc58.54.100 libx264\n",
      "    Side data:\n",
      "      cpb: bitrate max/min/avg: 0/0/0 buffer size: 0 vbv_delay: -1\n",
      "frame=  250 fps=0.0 q=-1.0 Lsize=      39kB time=00:00:08.23 bitrate=  38.9kbits/s speed=9.63x    \n",
      "video:36kB audio:0kB subtitle:0kB other streams:0kB global headers:0kB muxing overhead: 9.934411%\n",
      "\u001b[1;36m[libx264 @ 0x7fd288000c00] \u001b[0mframe I:1     Avg QP:21.48  size:  2543\n",
      "\u001b[1;36m[libx264 @ 0x7fd288000c00] \u001b[0mframe P:97    Avg QP:20.16  size:   163\n",
      "\u001b[1;36m[libx264 @ 0x7fd288000c00] \u001b[0mframe B:152   Avg QP:21.00  size:   115\n",
      "\u001b[1;36m[libx264 @ 0x7fd288000c00] \u001b[0mconsecutive B-frames: 11.6% 16.8% 15.6% 56.0%\n",
      "\u001b[1;36m[libx264 @ 0x7fd288000c00] \u001b[0mmb I  I16..4: 17.6% 79.3%  3.1%\n",
      "\u001b[1;36m[libx264 @ 0x7fd288000c00] \u001b[0mmb P  I16..4:  0.1%  0.2%  0.1%  P16..4:  0.5%  0.1%  0.0%  0.0%  0.0%    skip:99.0%\n",
      "\u001b[1;36m[libx264 @ 0x7fd288000c00] \u001b[0mmb B  I16..4:  0.0%  0.0%  0.1%  B16..8:  1.1%  0.1%  0.0%  direct: 0.0%  skip:98.7%  L0:60.1% L1:39.0% BI: 0.9%\n",
      "\u001b[1;36m[libx264 @ 0x7fd288000c00] \u001b[0m8x8 transform intra:69.0% inter:23.5%\n",
      "\u001b[1;36m[libx264 @ 0x7fd288000c00] \u001b[0mcoded y,uvDC,uvAC intra: 6.5% 11.9% 11.7% inter: 0.0% 0.1% 0.1%\n",
      "\u001b[1;36m[libx264 @ 0x7fd288000c00] \u001b[0mi16 v,h,dc,p: 73% 18%  9%  0%\n",
      "\u001b[1;36m[libx264 @ 0x7fd288000c00] \u001b[0mi8 v,h,dc,ddl,ddr,vr,hd,vl,hu: 65%  3% 31%  0%  0%  0%  0%  0%  0%\n",
      "\u001b[1;36m[libx264 @ 0x7fd288000c00] \u001b[0mi4 v,h,dc,ddl,ddr,vr,hd,vl,hu: 21% 13% 54%  1%  3%  2%  2%  2%  1%\n",
      "\u001b[1;36m[libx264 @ 0x7fd288000c00] \u001b[0mi8c dc,h,v,p: 93%  3%  4%  0%\n",
      "\u001b[1;36m[libx264 @ 0x7fd288000c00] \u001b[0mWeighted P-Frames: Y:0.0% UV:0.0%\n",
      "\u001b[1;36m[libx264 @ 0x7fd288000c00] \u001b[0mref P L0: 76.6%  1.0% 14.5%  7.9%\n",
      "\u001b[1;36m[libx264 @ 0x7fd288000c00] \u001b[0mref B L0: 62.0% 32.4%  5.6%\n",
      "\u001b[1;36m[libx264 @ 0x7fd288000c00] \u001b[0mref B L1: 96.7%  3.3%\n",
      "\u001b[1;36m[libx264 @ 0x7fd288000c00] \u001b[0mkb/s:34.32\n"
     ]
    }
   ],
   "source": [
    "integrate(init_parts, 250, workingdir, start=0)"
   ]
  },
  {
   "cell_type": "code",
   "execution_count": 68,
   "metadata": {},
   "outputs": [
    {
     "data": {
      "text/html": [
       "<video src=\"grav/out.mp4\" controls  >\n",
       "      Your browser does not support the <code>video</code> element.\n",
       "    </video>"
      ],
      "text/plain": [
       "<IPython.core.display.Video object>"
      ]
     },
     "execution_count": 68,
     "metadata": {},
     "output_type": "execute_result"
    }
   ],
   "source": [
    "Video(f'{workingdir}/out.mp4')"
   ]
  },
  {
   "cell_type": "code",
   "execution_count": null,
   "metadata": {},
   "outputs": [],
   "source": []
  }
 ],
 "metadata": {
  "kernelspec": {
   "display_name": "Python 3",
   "language": "python",
   "name": "python3"
  },
  "language_info": {
   "codemirror_mode": {
    "name": "ipython",
    "version": 3
   },
   "file_extension": ".py",
   "mimetype": "text/x-python",
   "name": "python",
   "nbconvert_exporter": "python",
   "pygments_lexer": "ipython3",
   "version": "3.7.6"
  }
 },
 "nbformat": 4,
 "nbformat_minor": 4
}

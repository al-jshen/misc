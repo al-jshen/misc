{
 "cells": [
  {
   "cell_type": "code",
   "execution_count": 1,
   "metadata": {},
   "outputs": [],
   "source": [
    "import numpy as np\n",
    "import matplotlib\n",
    "import matplotlib.pyplot as plt\n",
    "%matplotlib inline\n",
    "from IPython.display import clear_output, Video\n",
    "import os"
   ]
  },
  {
   "cell_type": "code",
   "execution_count": 2,
   "metadata": {},
   "outputs": [],
   "source": [
    "au = 1.496e11\n",
    "G = 6.67e-11"
   ]
  },
  {
   "cell_type": "code",
   "execution_count": 3,
   "metadata": {},
   "outputs": [],
   "source": [
    "class particle:\n",
    "    def __init__(self, pos, velocity=0., mass=1.):\n",
    "        self.pos = float(pos)\n",
    "        self.velocity = float(velocity)\n",
    "        self.mass = float(mass)\n",
    "    \n",
    "    def update_grav(self, accel):\n",
    "        self.velocity += accel\n",
    "        \n",
    "    def move(self):\n",
    "        self.pos += self.velocity"
   ]
  },
  {
   "cell_type": "code",
   "execution_count": 4,
   "metadata": {},
   "outputs": [],
   "source": [
    "def get_colours(palette, n):\n",
    "    clrs = []\n",
    "    cmap = matplotlib.cm.get_cmap(palette, n)\n",
    "    for i in range(cmap.N):\n",
    "        rgb = cmap(i)[:3]\n",
    "        clrs.append(matplotlib.colors.rgb2hex(rgb))\n",
    "    return clrs"
   ]
  },
  {
   "cell_type": "code",
   "execution_count": 5,
   "metadata": {},
   "outputs": [],
   "source": [
    "def grav(part_a, part_b):\n",
    "    dist = part_b.pos - part_a.pos\n",
    "    if dist != 0:\n",
    "        on_a = G * part_b.mass / dist\n",
    "    else:\n",
    "        on_a = 0\n",
    "    part_a.update_grav(on_a)\n",
    "    part_b.update_grav(-on_a)"
   ]
  },
  {
   "cell_type": "code",
   "execution_count": 6,
   "metadata": {},
   "outputs": [],
   "source": [
    "def step(parts):\n",
    "    for aidx, aval in enumerate(parts):\n",
    "        for bidx, bval in enumerate(parts[aidx:]):\n",
    "            grav(aval, bval)\n",
    "    for i in parts:\n",
    "        i.move()"
   ]
  },
  {
   "cell_type": "code",
   "execution_count": 182,
   "metadata": {},
   "outputs": [],
   "source": [
    "def plot_parts(parts, xlim=1*au, ylim=1*au, save=None, show=None, clrs='viridis'):\n",
    "    fig = plt.figure(figsize=(10, 10))\n",
    "    plt.xlim(-xlim, xlim)\n",
    "    plt.ylim(-ylim, ylim)\n",
    "    plt.scatter(*zip(*[(i.pos, i.velocity) for i in parts]), c=clrs)\n",
    "    if show:\n",
    "        plt.show()\n",
    "    if save:\n",
    "        plt.savefig(save)\n",
    "    plt.close()"
   ]
  },
  {
   "cell_type": "code",
   "execution_count": 190,
   "metadata": {},
   "outputs": [],
   "source": [
    "def integrate(parts, steps, savedir=None, start=0, xlim=1*au, ylim=1*au, clrs='viridis'):\n",
    "    if start == 0:\n",
    "        try: \n",
    "            !rm {savedir}/fig_*.png\n",
    "        except:\n",
    "            pass\n",
    "    for i in np.arange(start, start+steps):\n",
    "        if savedir:\n",
    "            pth = f'{savedir}/fig_{i+1:04}.png'\n",
    "        plot_parts(parts, xlim=xlim, ylim=ylim, save=pth, clrs=clrs)\n",
    "        step(parts)\n",
    "    !ffmpeg -y -framerate 30 -pattern_type glob -i '{savedir}/fig_*.png' -c:v libx264 -pix_fmt yuv420p {savedir}/out.mp4"
   ]
  },
  {
   "cell_type": "code",
   "execution_count": 287,
   "metadata": {},
   "outputs": [],
   "source": [
    "def initialize(n_bodies, mass, spacing=1*au):\n",
    "    init_pos = np.linspace(-spacing, spacing, n_bodies)\n",
    "    init_parts = [particle(pos, mass=mass) for pos in init_pos]\n",
    "    return init_parts"
   ]
  },
  {
   "cell_type": "code",
   "execution_count": 351,
   "metadata": {},
   "outputs": [],
   "source": [
    "n_bodies = 200\n",
    "\n",
    "clrs = get_colours('viridis', n_bodies)\n",
    "parts1 = initialize(n_bodies=1, mass=1e35, spacing=0)\n",
    "parts2 = initialize(n_bodies=n_bodies-1, mass=1e29, spacing=1*au)\n",
    "parts = parts1 + parts2"
   ]
  },
  {
   "cell_type": "code",
   "execution_count": 352,
   "metadata": {},
   "outputs": [
    {
     "name": "stdout",
     "output_type": "stream",
     "text": [
      "ffmpeg version 4.2.2 Copyright (c) 2000-2019 the FFmpeg developers\n",
      "  built with Apple clang version 11.0.0 (clang-1100.0.33.16)\n",
      "  configuration: --prefix=/usr/local/Cellar/ffmpeg/4.2.2_1 --enable-shared --enable-pthreads --enable-version3 --enable-avresample --cc=clang --host-cflags='-I/Library/Java/JavaVirtualMachines/adoptopenjdk-13.0.1.jdk/Contents/Home/include -I/Library/Java/JavaVirtualMachines/adoptopenjdk-13.0.1.jdk/Contents/Home/include/darwin -fno-stack-check' --host-ldflags= --enable-ffplay --enable-gnutls --enable-gpl --enable-libaom --enable-libbluray --enable-libmp3lame --enable-libopus --enable-librubberband --enable-libsnappy --enable-libtesseract --enable-libtheora --enable-libvidstab --enable-libvorbis --enable-libvpx --enable-libwebp --enable-libx264 --enable-libx265 --enable-libxvid --enable-lzma --enable-libfontconfig --enable-libfreetype --enable-frei0r --enable-libass --enable-libopencore-amrnb --enable-libopencore-amrwb --enable-libopenjpeg --enable-librtmp --enable-libspeex --enable-libsoxr --enable-videotoolbox --disable-libjack --disable-indev=jack\n",
      "  libavutil      56. 31.100 / 56. 31.100\n",
      "  libavcodec     58. 54.100 / 58. 54.100\n",
      "  libavformat    58. 29.100 / 58. 29.100\n",
      "  libavdevice    58.  8.100 / 58.  8.100\n",
      "  libavfilter     7. 57.100 /  7. 57.100\n",
      "  libavresample   4.  0.  0 /  4.  0.  0\n",
      "  libswscale      5.  5.100 /  5.  5.100\n",
      "  libswresample   3.  5.100 /  3.  5.100\n",
      "  libpostproc    55.  5.100 / 55.  5.100\n",
      "Input #0, image2, from 'grav/fig_*.png':\n",
      "  Duration: 00:00:01.67, start: 0.000000, bitrate: N/A\n",
      "    Stream #0:0: Video: png, rgba(pc), 720x720 [SAR 2834:2834 DAR 1:1], 30 fps, 30 tbr, 30 tbn, 30 tbc\n",
      "Stream mapping:\n",
      "  Stream #0:0 -> #0:0 (png (native) -> h264 (libx264))\n",
      "Press [q] to stop, [?] for help\n",
      "\u001b[1;36m[libx264 @ 0x7ff9ad81ba00] \u001b[0musing SAR=1/1\n",
      "\u001b[1;36m[libx264 @ 0x7ff9ad81ba00] \u001b[0musing cpu capabilities: MMX2 SSE2Fast SSSE3 SSE4.2 AVX FMA3 BMI2 AVX2\n",
      "\u001b[1;36m[libx264 @ 0x7ff9ad81ba00] \u001b[0mprofile High, level 3.1\n",
      "\u001b[1;36m[libx264 @ 0x7ff9ad81ba00] \u001b[0m264 - core 155 r2917 0a84d98 - H.264/MPEG-4 AVC codec - Copyleft 2003-2018 - http://www.videolan.org/x264.html - options: cabac=1 ref=3 deblock=1:0:0 analyse=0x3:0x113 me=hex subme=7 psy=1 psy_rd=1.00:0.00 mixed_ref=1 me_range=16 chroma_me=1 trellis=1 8x8dct=1 cqm=0 deadzone=21,11 fast_pskip=1 chroma_qp_offset=-2 threads=12 lookahead_threads=2 sliced_threads=0 nr=0 decimate=1 interlaced=0 bluray_compat=0 constrained_intra=0 bframes=3 b_pyramid=2 b_adapt=1 b_bias=0 direct=1 weightb=1 open_gop=0 weightp=2 keyint=250 keyint_min=25 scenecut=40 intra_refresh=0 rc_lookahead=40 rc=crf mbtree=1 crf=23.0 qcomp=0.60 qpmin=0 qpmax=69 qpstep=4 ip_ratio=1.40 aq=1:1.00\n",
      "Output #0, mp4, to 'grav/out.mp4':\n",
      "  Metadata:\n",
      "    encoder         : Lavf58.29.100\n",
      "    Stream #0:0: Video: h264 (libx264) (avc1 / 0x31637661), yuv420p, 720x720 [SAR 1:1 DAR 1:1], q=-1--1, 30 fps, 15360 tbn, 30 tbc\n",
      "    Metadata:\n",
      "      encoder         : Lavc58.54.100 libx264\n",
      "    Side data:\n",
      "      cpb: bitrate max/min/avg: 0/0/0 buffer size: 0 vbv_delay: -1\n",
      "frame=   50 fps=0.0 q=-1.0 Lsize=      94kB time=00:00:01.56 bitrate= 491.7kbits/s speed=5.74x    \n",
      "video:93kB audio:0kB subtitle:0kB other streams:0kB global headers:0kB muxing overhead: 1.385511%\n",
      "\u001b[1;36m[libx264 @ 0x7ff9ad81ba00] \u001b[0mframe I:1     Avg QP:19.07  size:  2286\n",
      "\u001b[1;36m[libx264 @ 0x7ff9ad81ba00] \u001b[0mframe P:30    Avg QP:24.88  size:  1694\n",
      "\u001b[1;36m[libx264 @ 0x7ff9ad81ba00] \u001b[0mframe B:19    Avg QP:28.37  size:  2167\n",
      "\u001b[1;36m[libx264 @ 0x7ff9ad81ba00] \u001b[0mconsecutive B-frames: 44.0% 16.0%  0.0% 40.0%\n",
      "\u001b[1;36m[libx264 @ 0x7ff9ad81ba00] \u001b[0mmb I  I16..4: 33.5% 63.8%  2.7%\n",
      "\u001b[1;36m[libx264 @ 0x7ff9ad81ba00] \u001b[0mmb P  I16..4:  0.3%  2.1%  1.5%  P16..4:  4.9%  1.3%  0.4%  0.0%  0.0%    skip:89.6%\n",
      "\u001b[1;36m[libx264 @ 0x7ff9ad81ba00] \u001b[0mmb B  I16..4:  0.1%  0.3%  1.5%  B16..8:  7.3%  1.9%  0.6%  direct: 0.2%  skip:88.0%  L0:53.7% L1:43.9% BI: 2.4%\n",
      "\u001b[1;36m[libx264 @ 0x7ff9ad81ba00] \u001b[0m8x8 transform intra:52.6% inter:18.8%\n",
      "\u001b[1;36m[libx264 @ 0x7ff9ad81ba00] \u001b[0mcoded y,uvDC,uvAC intra: 16.4% 29.5% 28.7% inter: 0.8% 1.4% 1.2%\n",
      "\u001b[1;36m[libx264 @ 0x7ff9ad81ba00] \u001b[0mi16 v,h,dc,p: 80% 14%  6%  0%\n",
      "\u001b[1;36m[libx264 @ 0x7ff9ad81ba00] \u001b[0mi8 v,h,dc,ddl,ddr,vr,hd,vl,hu: 43%  4% 51%  0%  0%  0%  0%  0%  0%\n",
      "\u001b[1;36m[libx264 @ 0x7ff9ad81ba00] \u001b[0mi4 v,h,dc,ddl,ddr,vr,hd,vl,hu: 21% 15% 46%  2%  4%  3%  3%  3%  2%\n",
      "\u001b[1;36m[libx264 @ 0x7ff9ad81ba00] \u001b[0mi8c dc,h,v,p: 81%  8% 10%  1%\n",
      "\u001b[1;36m[libx264 @ 0x7ff9ad81ba00] \u001b[0mWeighted P-Frames: Y:0.0% UV:0.0%\n",
      "\u001b[1;36m[libx264 @ 0x7ff9ad81ba00] \u001b[0mref P L0: 71.1%  1.5% 18.1%  9.2%\n",
      "\u001b[1;36m[libx264 @ 0x7ff9ad81ba00] \u001b[0mref B L0: 81.1% 16.3%  2.6%\n",
      "\u001b[1;36m[libx264 @ 0x7ff9ad81ba00] \u001b[0mref B L1: 92.8%  7.2%\n",
      "\u001b[1;36m[libx264 @ 0x7ff9ad81ba00] \u001b[0mkb/s:452.61\n"
     ]
    }
   ],
   "source": [
    "integrate(parts, steps=50, savedir='grav', start=00, xlim=10*au, ylim=1*au, clrs=clrs)"
   ]
  },
  {
   "cell_type": "code",
   "execution_count": 353,
   "metadata": {},
   "outputs": [
    {
     "data": {
      "text/html": [
       "<video src=\"grav/out.mp4\" controls  >\n",
       "      Your browser does not support the <code>video</code> element.\n",
       "    </video>"
      ],
      "text/plain": [
       "<IPython.core.display.Video object>"
      ]
     },
     "execution_count": 353,
     "metadata": {},
     "output_type": "execute_result"
    }
   ],
   "source": [
    "Video(f'{workingdir}/out.mp4')"
   ]
  },
  {
   "cell_type": "code",
   "execution_count": null,
   "metadata": {},
   "outputs": [],
   "source": []
  }
 ],
 "metadata": {
  "kernelspec": {
   "display_name": "Python 3",
   "language": "python",
   "name": "python3"
  },
  "language_info": {
   "codemirror_mode": {
    "name": "ipython",
    "version": 3
   },
   "file_extension": ".py",
   "mimetype": "text/x-python",
   "name": "python",
   "nbconvert_exporter": "python",
   "pygments_lexer": "ipython3",
   "version": "3.8.2"
  }
 },
 "nbformat": 4,
 "nbformat_minor": 4
}
